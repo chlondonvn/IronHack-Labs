{
 "cells": [
  {
   "cell_type": "code",
   "execution_count": 1,
   "metadata": {},
   "outputs": [],
   "source": [
    "import requests\n",
    "from bs4 import BeautifulSoup\n",
    "import pandas as pd"
   ]
  },
  {
   "cell_type": "code",
   "execution_count": 4,
   "metadata": {},
   "outputs": [],
   "source": [
    "html_doc = \"\"\"\"<!DOCTYPE html>\n",
    "<html>\n",
    "  <head>\n",
    "    Geography\n",
    "  </head>\n",
    "  <body>\n",
    "    <div class=\"city\">\n",
    "      <h2>London</h2>\n",
    "      <p>London is the most popular tourist destination in the world.</p>\n",
    "    </div>\n",
    "\n",
    "    <div class=\"city\">\n",
    "      <h2>Paris</h2>\n",
    "      <p>Paris was originally a Roman City called Lutetia.</p>\n",
    "    </div>\n",
    "\n",
    "    <div class=\"country\">\n",
    "      <h2>Spain</h2>\n",
    "      <p>Spain produces 43,8% of all the world's Olive Oil.</p>\n",
    "    </div>\n",
    "  </body>\n",
    "</html>\"\"\""
   ]
  },
  {
   "cell_type": "code",
   "execution_count": 5,
   "metadata": {},
   "outputs": [],
   "source": [
    "soup = BeautifulSoup(html_doc, 'html.parser')"
   ]
  },
  {
   "cell_type": "markdown",
   "metadata": {},
   "source": [
    "Write code to print the following contents (not including the HTML tags, only human-readable text):\n",
    "\n",
    "1. All the \"fun facts\".\n",
    "2. The names of all the places.\n",
    "3. The content (name and fact) of all the cities (only cities, not countries!)\n",
    "4. The names (not facts!) of all the cities (not countries!)"
   ]
  },
  {
   "cell_type": "code",
   "execution_count": 19,
   "metadata": {},
   "outputs": [
    {
     "data": {
      "text/plain": [
       "'London is the most popular tourist destination in the world.'"
      ]
     },
     "execution_count": 19,
     "metadata": {},
     "output_type": "execute_result"
    }
   ],
   "source": [
    "soup.find('p').text"
   ]
  },
  {
   "cell_type": "code",
   "execution_count": 66,
   "metadata": {
    "scrolled": true
   },
   "outputs": [
    {
     "name": "stdout",
     "output_type": "stream",
     "text": [
      "London is the most popular tourist destination in the world.\n",
      "Paris was originally a Roman City called Lutetia.\n",
      "Spain produces 43,8% of all the world's Olive Oil.\n"
     ]
    }
   ],
   "source": [
    "#1. All the \"fun facts\".\n",
    "\n",
    "soup.find_all('p')\n",
    "\n",
    "for i in soup.find_all('p'):\n",
    "    print(i.get_text())"
   ]
  },
  {
   "cell_type": "code",
   "execution_count": 32,
   "metadata": {},
   "outputs": [
    {
     "name": "stdout",
     "output_type": "stream",
     "text": [
      "London, Paris, Spain\n"
     ]
    }
   ],
   "source": [
    "#.2 The names of all the places.\n",
    "\n",
    "soup.find_all('h2')\n",
    "\n",
    "places = \", \".join([p.text for p in soup.find_all(\"h2\")])\n",
    "print(places)\n",
    "\n",
    "#for i in soup.find_all('h2'): <-second answer\n",
    "        #print(i.get_text())"
   ]
  },
  {
   "cell_type": "code",
   "execution_count": 107,
   "metadata": {},
   "outputs": [
    {
     "name": "stdout",
     "output_type": "stream",
     "text": [
      "London\n",
      "London is the most popular tourist destination in the world.\n",
      "Paris\n",
      "Paris was originally a Roman City called Lutetia.\n",
      "Spain\n",
      "Spain produces 43,8% of all the world's Olive Oil.\n"
     ]
    }
   ],
   "source": [
    "# 3. The content (name and fact) of all the cities (only cities, not countries!)\n",
    "\n",
    "for i in soup.find_all([\"h2\",\"p\", {\"class\":\"city\"}]):\n",
    "        print( i.get_text())\n",
    "      "
   ]
  },
  {
   "cell_type": "code",
   "execution_count": 54,
   "metadata": {},
   "outputs": [
    {
     "name": "stdout",
     "output_type": "stream",
     "text": [
      "London\n",
      "Paris\n"
     ]
    }
   ],
   "source": [
    "#4. The names (not facts!) of all the cities (not countries!)\n",
    "\n",
    "for i in soup.find_all(\"div\", {\"class\":\"city\"}):\n",
    "        print(i.h2.get_text())"
   ]
  }
 ],
 "metadata": {
  "kernelspec": {
   "display_name": "Python 3",
   "language": "python",
   "name": "python3"
  },
  "language_info": {
   "codemirror_mode": {
    "name": "ipython",
    "version": 3
   },
   "file_extension": ".py",
   "mimetype": "text/x-python",
   "name": "python",
   "nbconvert_exporter": "python",
   "pygments_lexer": "ipython3",
   "version": "3.8.5"
  }
 },
 "nbformat": 4,
 "nbformat_minor": 4
}
